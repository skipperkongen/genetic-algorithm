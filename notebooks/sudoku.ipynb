{
 "cells": [
  {
   "cell_type": "code",
   "execution_count": 1,
   "id": "53f0fa13",
   "metadata": {},
   "outputs": [],
   "source": [
    "from IPython.display import Image\n",
    "import numpy as np\n",
    "from gaga.algorithm import GeneticAlgorithm\n",
    "from gaga.functions import * "
   ]
  },
  {
   "cell_type": "code",
   "execution_count": 2,
   "id": "fc228a40",
   "metadata": {},
   "outputs": [
    {
     "name": "stdout",
     "output_type": "stream",
     "text": [
      "[ 2.  7. nan nan  3. nan nan  8. nan nan  3.  8. nan  4. nan nan nan nan\n",
      " nan  4. nan nan  2. nan nan nan nan nan nan  2.  7. nan nan  1. nan nan\n",
      " nan nan nan nan nan nan  7. nan  5.  7. nan nan nan nan  6. nan  3. nan\n",
      "  5. nan  4. nan nan nan  3. nan nan  3. nan  7.  1. nan nan  4.  2.  9.\n",
      " nan  2. nan nan nan nan nan  6. nan]\n"
     ]
    },
    {
     "data": {
      "text/html": [
       "<img src=\"sudoku.png\" width=\"200\"/>"
      ],
      "text/plain": [
       "<IPython.core.display.Image object>"
      ]
     },
     "execution_count": 2,
     "metadata": {},
     "output_type": "execute_result"
    }
   ],
   "source": [
    "E = None\n",
    "BOARD = np.array([\n",
    "    2,7,E, E,3,E, E,8,E,\n",
    "    E,3,8, E,4,E, E,E,E,\n",
    "    E,4,E, E,2,E, E,E,E,\n",
    "    E,E,2, 7,E,E, 1,E,E,\n",
    "    E,E,E, E,E,E, 7,E,5,\n",
    "    7,E,E, E,E,6, E,3,E,\n",
    "    5,E,4, E,E,E, 3,E,E,\n",
    "    3,E,7, 1,E,E, 4,2,9,\n",
    "    E,2,E, E,E,E, E,6,E,\n",
    "], dtype=float)\n",
    "print(BOARD)\n",
    "Image(url='sudoku.png', width=200)"
   ]
  },
  {
   "cell_type": "code",
   "execution_count": 7,
   "id": "97a5fdbc",
   "metadata": {},
   "outputs": [],
   "source": [
    "def get_cell(board,i=0,j=0):\n",
    "    return board.reshape((9,9))[i*3:i*3+3, j*3:j*3+3]\n",
    "\n",
    "def randomly_fill_board(board):\n",
    "    \"\"\"\n",
    "    TODO: finish implementation!!\n",
    "    \"\"\"\n",
    "    copy = np.array(board)\n",
    "    for i in range(3):\n",
    "        for j in range(3):\n",
    "            cell = get_cell(board,i=i, j=j)\n",
    "            randomly_fill_cell(cell)\n",
    "    return np.nan_to_num(copy)\n",
    "\n",
    "def make_seed_pop(board, n=10):\n",
    "    seed_pop = [\n",
    "        randomly_fill_board(board)\n",
    "        for _ in range(n)\n",
    "    ]\n",
    "    return np.array(seed_pop)\n",
    "\n",
    "def mutate_sudoku(x):\n",
    "    return x\n",
    "\n",
    "def fitness_sudoku(x):\n",
    "    return 1#(np.square(x - BOARD)).mean(axis=0)"
   ]
  },
  {
   "cell_type": "code",
   "execution_count": 4,
   "id": "9aeafc97",
   "metadata": {},
   "outputs": [
    {
     "ename": "TypeError",
     "evalue": "'>=' not supported between instances of 'float' and 'NoneType'",
     "output_type": "error",
     "traceback": [
      "\u001b[0;31m---------------------------------------------------------------------------\u001b[0m",
      "\u001b[0;31mTypeError\u001b[0m                                 Traceback (most recent call last)",
      "\u001b[0;32m/var/folders/6c/gc7czb2n3_357wttfrdbgzrr0000gn/T/ipykernel_38379/1340030583.py\u001b[0m in \u001b[0;36m<module>\u001b[0;34m\u001b[0m\n\u001b[1;32m      7\u001b[0m     epsilon=1e-3)\n\u001b[1;32m      8\u001b[0m \u001b[0mseed_pop\u001b[0m \u001b[0;34m=\u001b[0m \u001b[0mmake_seed_pop\u001b[0m\u001b[0;34m(\u001b[0m\u001b[0mBOARD\u001b[0m\u001b[0;34m)\u001b[0m\u001b[0;34m\u001b[0m\u001b[0;34m\u001b[0m\u001b[0m\n\u001b[0;32m----> 9\u001b[0;31m \u001b[0msol\u001b[0m\u001b[0;34m,\u001b[0m \u001b[0mfitness\u001b[0m\u001b[0;34m,\u001b[0m \u001b[0mgeneration\u001b[0m \u001b[0;34m=\u001b[0m \u001b[0malgo\u001b[0m\u001b[0;34m.\u001b[0m\u001b[0msolve\u001b[0m\u001b[0;34m(\u001b[0m\u001b[0mseed_pop\u001b[0m\u001b[0;34m)\u001b[0m\u001b[0;34m\u001b[0m\u001b[0;34m\u001b[0m\u001b[0m\n\u001b[0m\u001b[1;32m     10\u001b[0m \u001b[0msol\u001b[0m\u001b[0;34m.\u001b[0m\u001b[0mround\u001b[0m\u001b[0;34m(\u001b[0m\u001b[0;34m)\u001b[0m\u001b[0;34m.\u001b[0m\u001b[0mastype\u001b[0m\u001b[0;34m(\u001b[0m\u001b[0mint\u001b[0m\u001b[0;34m)\u001b[0m\u001b[0;34m,\u001b[0m \u001b[0mfitness\u001b[0m\u001b[0;34m,\u001b[0m \u001b[0mgeneration\u001b[0m\u001b[0;34m\u001b[0m\u001b[0;34m\u001b[0m\u001b[0m\n",
      "\u001b[0;32m~/code/genetic-algorithm/src/gaga/algorithm.py\u001b[0m in \u001b[0;36msolve\u001b[0;34m(self, seed_pop)\u001b[0m\n\u001b[1;32m     60\u001b[0m \u001b[0;34m\u001b[0m\u001b[0m\n\u001b[1;32m     61\u001b[0m     \u001b[0;32mdef\u001b[0m \u001b[0msolve\u001b[0m\u001b[0;34m(\u001b[0m\u001b[0mself\u001b[0m\u001b[0;34m,\u001b[0m \u001b[0mseed_pop\u001b[0m\u001b[0;34m=\u001b[0m\u001b[0;32mNone\u001b[0m\u001b[0;34m)\u001b[0m\u001b[0;34m:\u001b[0m\u001b[0;34m\u001b[0m\u001b[0;34m\u001b[0m\u001b[0m\n\u001b[0;32m---> 62\u001b[0;31m         \u001b[0mpop\u001b[0m \u001b[0;34m=\u001b[0m \u001b[0mself\u001b[0m\u001b[0;34m.\u001b[0m\u001b[0m_init_pop\u001b[0m\u001b[0;34m(\u001b[0m\u001b[0mseed_pop\u001b[0m\u001b[0;34m)\u001b[0m\u001b[0;34m\u001b[0m\u001b[0;34m\u001b[0m\u001b[0m\n\u001b[0m\u001b[1;32m     63\u001b[0m         \u001b[0mpop_idx\u001b[0m \u001b[0;34m=\u001b[0m \u001b[0mnp\u001b[0m\u001b[0;34m.\u001b[0m\u001b[0marange\u001b[0m\u001b[0;34m(\u001b[0m\u001b[0mself\u001b[0m\u001b[0;34m.\u001b[0m\u001b[0mpop_size\u001b[0m\u001b[0;34m)\u001b[0m\u001b[0;34m\u001b[0m\u001b[0;34m\u001b[0m\u001b[0m\n\u001b[1;32m     64\u001b[0m         \u001b[0mmut_bounds\u001b[0m \u001b[0;34m=\u001b[0m \u001b[0;32mlambda\u001b[0m \u001b[0mx\u001b[0m\u001b[0;34m:\u001b[0m \u001b[0mself\u001b[0m\u001b[0;34m.\u001b[0m\u001b[0mmutate\u001b[0m\u001b[0;34m(\u001b[0m\u001b[0mx\u001b[0m\u001b[0;34m,\u001b[0m \u001b[0mgene_lb\u001b[0m\u001b[0;34m=\u001b[0m\u001b[0mself\u001b[0m\u001b[0;34m.\u001b[0m\u001b[0mgene_lb\u001b[0m\u001b[0;34m,\u001b[0m \u001b[0mgene_ub\u001b[0m\u001b[0;34m=\u001b[0m\u001b[0mself\u001b[0m\u001b[0;34m.\u001b[0m\u001b[0mgene_ub\u001b[0m\u001b[0;34m)\u001b[0m\u001b[0;34m\u001b[0m\u001b[0;34m\u001b[0m\u001b[0m\n",
      "\u001b[0;32m~/code/genetic-algorithm/src/gaga/algorithm.py\u001b[0m in \u001b[0;36m_init_pop\u001b[0;34m(self, seed_pop)\u001b[0m\n\u001b[1;32m     54\u001b[0m             \u001b[0mself\u001b[0m\u001b[0;34m.\u001b[0m\u001b[0mn_genes\u001b[0m \u001b[0;34m=\u001b[0m \u001b[0mpop\u001b[0m\u001b[0;34m.\u001b[0m\u001b[0mshape\u001b[0m\u001b[0;34m[\u001b[0m\u001b[0;36m1\u001b[0m\u001b[0;34m]\u001b[0m\u001b[0;34m\u001b[0m\u001b[0;34m\u001b[0m\u001b[0m\n\u001b[1;32m     55\u001b[0m         \u001b[0;32massert\u001b[0m \u001b[0mpop\u001b[0m\u001b[0;34m.\u001b[0m\u001b[0mshape\u001b[0m \u001b[0;34m==\u001b[0m \u001b[0;34m(\u001b[0m\u001b[0mself\u001b[0m\u001b[0;34m.\u001b[0m\u001b[0mpop_size\u001b[0m\u001b[0;34m,\u001b[0m \u001b[0mself\u001b[0m\u001b[0;34m.\u001b[0m\u001b[0mn_genes\u001b[0m\u001b[0;34m)\u001b[0m\u001b[0;34m\u001b[0m\u001b[0;34m\u001b[0m\u001b[0m\n\u001b[0;32m---> 56\u001b[0;31m         \u001b[0;32massert\u001b[0m \u001b[0mpop\u001b[0m\u001b[0;34m.\u001b[0m\u001b[0mravel\u001b[0m\u001b[0;34m(\u001b[0m\u001b[0;34m)\u001b[0m\u001b[0;34m.\u001b[0m\u001b[0mmin\u001b[0m\u001b[0;34m(\u001b[0m\u001b[0;34m)\u001b[0m \u001b[0;34m>=\u001b[0m \u001b[0mself\u001b[0m\u001b[0;34m.\u001b[0m\u001b[0mgene_lb\u001b[0m\u001b[0;34m\u001b[0m\u001b[0;34m\u001b[0m\u001b[0m\n\u001b[0m\u001b[1;32m     57\u001b[0m         \u001b[0;32massert\u001b[0m \u001b[0mpop\u001b[0m\u001b[0;34m.\u001b[0m\u001b[0mravel\u001b[0m\u001b[0;34m(\u001b[0m\u001b[0;34m)\u001b[0m\u001b[0;34m.\u001b[0m\u001b[0mmax\u001b[0m\u001b[0;34m(\u001b[0m\u001b[0;34m)\u001b[0m \u001b[0;34m<=\u001b[0m \u001b[0mself\u001b[0m\u001b[0;34m.\u001b[0m\u001b[0mgene_ub\u001b[0m\u001b[0;34m\u001b[0m\u001b[0;34m\u001b[0m\u001b[0m\n\u001b[1;32m     58\u001b[0m         \u001b[0;32mreturn\u001b[0m \u001b[0mpop\u001b[0m\u001b[0;34m.\u001b[0m\u001b[0mastype\u001b[0m\u001b[0;34m(\u001b[0m\u001b[0mself\u001b[0m\u001b[0;34m.\u001b[0m\u001b[0mdtype\u001b[0m\u001b[0;34m)\u001b[0m\u001b[0;34m\u001b[0m\u001b[0;34m\u001b[0m\u001b[0m\n",
      "\u001b[0;31mTypeError\u001b[0m: '>=' not supported between instances of 'float' and 'NoneType'"
     ]
    }
   ],
   "source": [
    "algo = GeneticAlgorithm(\n",
    "    fitness_function=fitness_sudoku,\n",
    "    max_generations=1000,\n",
    "    mutate=mutate_sudoku,\n",
    "    mutate_ratio=0.20,\n",
    "    cross_ratio=0,\n",
    "    epsilon=1e-3)\n",
    "seed_pop = make_seed_pop(BOARD)\n",
    "sol, fitness, generation = algo.solve(seed_pop)\n",
    "sol.round().astype(int), fitness, generation"
   ]
  },
  {
   "cell_type": "code",
   "execution_count": 10,
   "id": "5244d0d6",
   "metadata": {},
   "outputs": [
    {
     "data": {
      "text/plain": [
       "array([[ 1., nan, nan],\n",
       "       [ 7., nan,  5.],\n",
       "       [nan,  3., nan]])"
      ]
     },
     "execution_count": 10,
     "metadata": {},
     "output_type": "execute_result"
    }
   ],
   "source": [
    "get_cell(BOARD, i=1,j=2)"
   ]
  },
  {
   "cell_type": "code",
   "execution_count": null,
   "id": "16082ad0",
   "metadata": {},
   "outputs": [],
   "source": []
  }
 ],
 "metadata": {
  "kernelspec": {
   "display_name": "Python 3 (ipykernel)",
   "language": "python",
   "name": "python3"
  },
  "language_info": {
   "codemirror_mode": {
    "name": "ipython",
    "version": 3
   },
   "file_extension": ".py",
   "mimetype": "text/x-python",
   "name": "python",
   "nbconvert_exporter": "python",
   "pygments_lexer": "ipython3",
   "version": "3.9.5"
  }
 },
 "nbformat": 4,
 "nbformat_minor": 5
}
