{
 "cells": [
  {
   "cell_type": "code",
   "execution_count": 1,
   "id": "53f0fa13",
   "metadata": {},
   "outputs": [],
   "source": [
    "import numpy as np\n",
    "from gaga.algorithm import GeneticAlgorithm\n",
    "from gaga.functions import * "
   ]
  },
  {
   "cell_type": "code",
   "execution_count": 23,
   "id": "9aeafc97",
   "metadata": {},
   "outputs": [
    {
     "data": {
      "text/plain": [
       "(array([0, 1, 2, 3, 4, 5, 6, 7, 8, 9]), 0.0006905593080091931, 3950)"
      ]
     },
     "execution_count": 23,
     "metadata": {},
     "output_type": "execute_result"
    }
   ],
   "source": [
    "TARGET = np.arange(10)\n",
    "\n",
    "def fitness_function(x):\n",
    "    return (np.square(x - TARGET)).mean(axis=0)\n",
    "\n",
    "algo = GeneticAlgorithm(\n",
    "    fitness_function=fitness_function,\n",
    "    gene_lb = TARGET.min(),\n",
    "    gene_ub = TARGET.max(),\n",
    "    n_genes = len(TARGET),\n",
    "    max_generations=10000,\n",
    "    pop_size=10,\n",
    "    mutate=mutate_change,\n",
    "    mutate_ratio=0.20,\n",
    "    cross_ratio=0,\n",
    "    epsilon=1e-3\n",
    ")\n",
    "#seed_pop = np.zeros((5,10)) + np.arange(10)[::-1]\n",
    "sol, fitness, generation = algo.solve()\n",
    "sol.round().astype(int), fitness, generation"
   ]
  },
  {
   "cell_type": "code",
   "execution_count": null,
   "id": "5244d0d6",
   "metadata": {},
   "outputs": [],
   "source": []
  }
 ],
 "metadata": {
  "kernelspec": {
   "display_name": "Python 3 (ipykernel)",
   "language": "python",
   "name": "python3"
  },
  "language_info": {
   "codemirror_mode": {
    "name": "ipython",
    "version": 3
   },
   "file_extension": ".py",
   "mimetype": "text/x-python",
   "name": "python",
   "nbconvert_exporter": "python",
   "pygments_lexer": "ipython3",
   "version": "3.9.7"
  }
 },
 "nbformat": 4,
 "nbformat_minor": 5
}
